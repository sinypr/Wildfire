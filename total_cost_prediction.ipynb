{
 "cells": [
  {
   "cell_type": "markdown",
   "id": "72ab38d2",
   "metadata": {},
   "source": [
    "# WILDFIRE MITIGATION AND TOTAL COST"
   ]
  },
  {
   "cell_type": "markdown",
   "id": "8370d305",
   "metadata": {},
   "source": [
    "Certain states in the United States such as Colorado and California have experienced enormous losses because of wildfires. The pandemic of wildfires in recent years has resulted in deaths of thousands of people, increases in home-insurance premium and utility bills, and economic downtrends as people move out of areas affected by fires. The causes for wildfires are different. In some places, dangerous fires are wind-driven whereas others are fuel driven. Both federal and state governments spend billions of dollars on managing wildfires with a large portion of this cost being spent on suppression of wildfires.\n",
    "\n",
    "Research shows that money put towards preparation purposes such as structure hardening of buildings, introducing fuel breaks for community level protection, and creating low intensity prescribed wildfires will reduce the post-wildfire cost impact by six times. Predicting wildfire and total cost will help the government and investors to spend money efficiently in fighting fires and dealing with their potential impacts.\n",
    "\n",
    "One of the objective of this project is to forecast total cost. \n",
    "\n",
    "Data was extracted from NIFC[1] and NASF[2] websites. Since the data was recorded by different agencies there wasn't any common key on which these could be merged. Therefore a combination of DiscoveryDate, County and State are used to merge the datasets. \n",
    "\n",
    "In the merged data there were some helful features like suppression cost(EstimatedCost), number of structures destroyed, county, state. \n",
    "\n",
    "Total damaged structure cost was calculated by multiplying the total number of structures destroyed by the average home cost values.\n",
    "\n",
    "In this notebook I will be loading the merged data, performing some EDA and creating a model to predict total structures destroyed and finally calculate damage cost. "
   ]
  },
  {
   "cell_type": "markdown",
   "id": "30856a6b",
   "metadata": {},
   "source": [
    "## Structure Damage Cost Prediction"
   ]
  },
  {
   "cell_type": "markdown",
   "id": "fd63a0d0",
   "metadata": {},
   "source": [
    "### Load necessary Packages"
   ]
  },
  {
   "cell_type": "code",
   "execution_count": 32,
   "id": "60d0350e",
   "metadata": {},
   "outputs": [],
   "source": [
    "import pandas as pd\n",
    "import numpy as np\n",
    "from time import time\n",
    "from scipy import stats\n",
    "import math\n",
    "from datetime import datetime as dt\n",
    "\n",
    "#==========================================\n",
    "# EDA Reporting\n",
    "from pandas_profiling import ProfileReport\n",
    "\n",
    "#==========================================\n",
    "# Plots\n",
    "import matplotlib.pyplot as plt\n",
    "import seaborn as sns\n",
    "%matplotlib inline\n",
    "\n",
    "#==========================================\n",
    "\n",
    "# Pipelines\n",
    "from sklearn.impute import SimpleImputer\n",
    "from sklearn.preprocessing import LabelEncoder\n",
    "from sklearn.base import BaseEstimator, TransformerMixin\n",
    "from sklearn.pipeline import make_pipeline, Pipeline, FeatureUnion\n",
    "from sklearn.preprocessing import MinMaxScaler, StandardScaler, OneHotEncoder, FunctionTransformer,OrdinalEncoder\n",
    "\n",
    "# CV\n",
    "from sklearn.model_selection import train_test_split\n",
    "from sklearn.model_selection import cross_validate\n",
    "from sklearn.model_selection import cross_val_score\n",
    "from sklearn.model_selection import GridSearchCV\n",
    "from sklearn.model_selection import ShuffleSplit\n",
    "from sklearn.feature_selection import RFE\n",
    "\n",
    "#=========================================\n",
    "\n",
    "# Models\n",
    "\n",
    "from sklearn.linear_model import LinearRegression, Ridge, ElasticNet\n",
    "from sklearn.ensemble import RandomForestRegressor\n",
    "from lightgbm import LGBMRegressor\n",
    "\n",
    "# Metrics\n",
    "\n",
    "from sklearn.metrics import r2_score, make_scorer, mean_squared_error, mean_absolute_error, adjusted_rand_score\n",
    "\n",
    "#=============================================\n",
    "\n",
    "# To display all the features in a dataframe\n",
    "pd.set_option('display.max_rows', 500)\n",
    "pd.set_option('display.max_columns', 500)\n",
    "pd.set_option('display.width', 1500)\n",
    "\n",
    "#==========================================\n",
    "\n",
    "import warnings\n",
    "warnings.filterwarnings('ignore')"
   ]
  },
  {
   "cell_type": "markdown",
   "id": "5f3b5f6d",
   "metadata": {},
   "source": [
    "## Load Data\n",
    "\n",
    "Data is stored in the \"data\" folder"
   ]
  },
  {
   "cell_type": "code",
   "execution_count": 2,
   "id": "24e1798e",
   "metadata": {},
   "outputs": [],
   "source": [
    "nifc_raw = pd.read_csv(\"data/new_merge_nasf_nicf.csv\", parse_dates=['FireDiscoveryDateTime', 'FireToDate'])"
   ]
  },
  {
   "cell_type": "code",
   "execution_count": 4,
   "id": "ccdc4098",
   "metadata": {},
   "outputs": [
    {
     "data": {
      "text/html": [
       "<div>\n",
       "<style scoped>\n",
       "    .dataframe tbody tr th:only-of-type {\n",
       "        vertical-align: middle;\n",
       "    }\n",
       "\n",
       "    .dataframe tbody tr th {\n",
       "        vertical-align: top;\n",
       "    }\n",
       "\n",
       "    .dataframe thead th {\n",
       "        text-align: right;\n",
       "    }\n",
       "</style>\n",
       "<table border=\"1\" class=\"dataframe\">\n",
       "  <thead>\n",
       "    <tr style=\"text-align: right;\">\n",
       "      <th></th>\n",
       "      <th>UniqueFireIdentifier</th>\n",
       "      <th>IncidentName</th>\n",
       "      <th>FireDiscoveryDateTime</th>\n",
       "      <th>FireCause</th>\n",
       "      <th>DailyAcres</th>\n",
       "      <th>EstimatedCostToDate</th>\n",
       "      <th>FireMgmtComplexity</th>\n",
       "      <th>FireToDate</th>\n",
       "      <th>POOCounty</th>\n",
       "      <th>POOState</th>\n",
       "      <th>POOLandownerKind</th>\n",
       "      <th>IncidentTypeCategory</th>\n",
       "      <th>PredominantFuelGroup</th>\n",
       "      <th>FireDiscoveryYear</th>\n",
       "      <th>FireDiscoveryMonth</th>\n",
       "      <th>key</th>\n",
       "      <th>Residences Threatened</th>\n",
       "      <th>Residences Destroyed</th>\n",
       "      <th>Other Structures Threatened</th>\n",
       "      <th>Other Structures Destroyed</th>\n",
       "      <th>Number Injuries</th>\n",
       "      <th>Number Fatalities</th>\n",
       "      <th>Final Fire Acre Quantity</th>\n",
       "    </tr>\n",
       "  </thead>\n",
       "  <tbody>\n",
       "    <tr>\n",
       "      <th>0</th>\n",
       "      <td>2020-TXTXS-200317</td>\n",
       "      <td>Park</td>\n",
       "      <td>2020-07-21 22:37:08+00:00</td>\n",
       "      <td>Human</td>\n",
       "      <td>512.0</td>\n",
       "      <td>1.0</td>\n",
       "      <td>Type 5 Incident</td>\n",
       "      <td>2020-07-22 12:00:00+00:00</td>\n",
       "      <td>Shackelford</td>\n",
       "      <td>US-TX</td>\n",
       "      <td>Private</td>\n",
       "      <td>WF</td>\n",
       "      <td>NaN</td>\n",
       "      <td>2020</td>\n",
       "      <td>7</td>\n",
       "      <td>2020-07-21TXSHACKELFORD</td>\n",
       "      <td>0.0</td>\n",
       "      <td>0.0</td>\n",
       "      <td>0.0</td>\n",
       "      <td>0.0</td>\n",
       "      <td>0.0</td>\n",
       "      <td>0.0</td>\n",
       "      <td>512.0</td>\n",
       "    </tr>\n",
       "    <tr>\n",
       "      <th>1</th>\n",
       "      <td>2016-FLFLS-2016120122</td>\n",
       "      <td>Quincy</td>\n",
       "      <td>2016-03-09 19:30:00+00:00</td>\n",
       "      <td>Human</td>\n",
       "      <td>45.0</td>\n",
       "      <td>0.0</td>\n",
       "      <td>Type 5 Incident</td>\n",
       "      <td>2016-03-18 12:59:59+00:00</td>\n",
       "      <td>Brevard</td>\n",
       "      <td>US-FL</td>\n",
       "      <td>NaN</td>\n",
       "      <td>WF</td>\n",
       "      <td>NaN</td>\n",
       "      <td>2016</td>\n",
       "      <td>3</td>\n",
       "      <td>2016-03-09FLBREVARD</td>\n",
       "      <td>0.0</td>\n",
       "      <td>0.0</td>\n",
       "      <td>0.0</td>\n",
       "      <td>0.0</td>\n",
       "      <td>0.0</td>\n",
       "      <td>0.0</td>\n",
       "      <td>45.0</td>\n",
       "    </tr>\n",
       "  </tbody>\n",
       "</table>\n",
       "</div>"
      ],
      "text/plain": [
       "    UniqueFireIdentifier IncidentName     FireDiscoveryDateTime FireCause  DailyAcres  EstimatedCostToDate FireMgmtComplexity                FireToDate    POOCounty POOState POOLandownerKind IncidentTypeCategory PredominantFuelGroup  FireDiscoveryYear  FireDiscoveryMonth                      key  Residences Threatened  Residences Destroyed  Other Structures Threatened  Other Structures Destroyed  Number Injuries  Number Fatalities  Final Fire Acre Quantity\n",
       "0      2020-TXTXS-200317         Park 2020-07-21 22:37:08+00:00     Human       512.0                  1.0    Type 5 Incident 2020-07-22 12:00:00+00:00  Shackelford    US-TX          Private                   WF                  NaN               2020                   7  2020-07-21TXSHACKELFORD                    0.0                   0.0                          0.0                         0.0              0.0                0.0                     512.0\n",
       "1  2016-FLFLS-2016120122       Quincy 2016-03-09 19:30:00+00:00     Human        45.0                  0.0    Type 5 Incident 2016-03-18 12:59:59+00:00      Brevard    US-FL              NaN                   WF                  NaN               2016                   3      2016-03-09FLBREVARD                    0.0                   0.0                          0.0                         0.0              0.0                0.0                      45.0"
      ]
     },
     "execution_count": 4,
     "metadata": {},
     "output_type": "execute_result"
    }
   ],
   "source": [
    "nifc_raw.head(2)"
   ]
  },
  {
   "cell_type": "markdown",
   "id": "9e7248fb",
   "metadata": {},
   "source": [
    "**Features**\n",
    "\n",
    "* IncidentName - Name of the incident\n",
    "* FireDiscoveryDateTime - Datetime at which the fire is discovered\n",
    "* FireCause - Cause of the fire - Human, Natural, Unknown, Undetermined\n",
    "* DailyAcres - Total acres burnt\n",
    "* EstimatedCostToDate - Suppression cost\n",
    "* FireMgmtComplexity - Complexity of fire management \"Type 1\" is most dangerous\n",
    "* FireToDate - To date\n",
    "* POOCounty - County\n",
    "* POOState - State\n",
    "* POOLandownerKind - Landowner kind whether federal or private properties\n",
    "* IncidentTypeCategory - WF(wildfire), CX(complex), RX(Prescribed)\n",
    "* PredominantFuelGroup - Fuel group for the fire - eg: timber, grass\n",
    "* Residences Threatened - Threatened residence\n",
    "* Residences Destroyed - Destroyed residences\n",
    "* Other Structures Threatened - Structures threatened\n",
    "* Other Structures Destroyed - Structures destroyed\n",
    "* Number Injuries - Number of people injured\n",
    "* Number Fatalities - Number of deaths\n",
    "* Final Fire Acre Quantity - similar to Daily acres but most of the rows are NaNs.So ignore\n",
    "* key, UniqueFireIdentifier - Identifiers for different agencies"
   ]
  },
  {
   "cell_type": "markdown",
   "id": "465600ce",
   "metadata": {},
   "source": [
    "## Preprocessing"
   ]
  },
  {
   "cell_type": "code",
   "execution_count": 3,
   "id": "1e5946a0",
   "metadata": {},
   "outputs": [],
   "source": [
    "nifc_merge = nifc_raw.copy()\n",
    "nifc_merge['total_str_damaged'] = nifc_merge['Residences Destroyed'] + nifc_merge['Other Structures Destroyed']\n",
    "nifc_merge['total_str_threatened'] = nifc_merge['Residences Threatened'] + nifc_merge['Other Structures Threatened']\n",
    "nifc_merge.drop(['Residences Destroyed', 'Other Structures Destroyed', 'Residences Threatened', 'Other Structures Threatened'], inplace=True, axis=1)\n",
    "nifc_merge['TotalDays'] = (nifc_merge['FireToDate'].dt.date - nifc_merge['FireDiscoveryDateTime'].dt.date).dt.days"
   ]
  },
  {
   "cell_type": "markdown",
   "id": "f75b6365",
   "metadata": {},
   "source": [
    "## Data analysis\n",
    "\n",
    "A basic analysis of the data can be done using pandas.profiling.\n",
    "\n",
    "Note: If to_widgets gives error uninstall pandas_profiling, update anaconda and reinstall pandas profiling[4]\n"
   ]
  },
  {
   "cell_type": "code",
   "execution_count": 4,
   "id": "04ee1aab",
   "metadata": {
    "scrolled": false
   },
   "outputs": [
    {
     "data": {
      "application/vnd.jupyter.widget-view+json": {
       "model_id": "9229b64df46443dfb639c08a61c0beb0",
       "version_major": 2,
       "version_minor": 0
      },
      "text/plain": [
       "Summarize dataset:   0%|          | 0/35 [00:00<?, ?it/s]"
      ]
     },
     "metadata": {},
     "output_type": "display_data"
    },
    {
     "data": {
      "application/vnd.jupyter.widget-view+json": {
       "model_id": "6cdcdfcad50e4fb3ac1d8bae965f8006",
       "version_major": 2,
       "version_minor": 0
      },
      "text/plain": [
       "Generate report structure:   0%|          | 0/1 [00:00<?, ?it/s]"
      ]
     },
     "metadata": {},
     "output_type": "display_data"
    },
    {
     "data": {
      "application/vnd.jupyter.widget-view+json": {
       "model_id": "",
       "version_major": 2,
       "version_minor": 0
      },
      "text/plain": [
       "Render widgets:   0%|          | 0/1 [00:00<?, ?it/s]"
      ]
     },
     "metadata": {},
     "output_type": "display_data"
    },
    {
     "data": {
      "application/vnd.jupyter.widget-view+json": {
       "model_id": "5127c276f5104b99b3837b9b9da93ef1",
       "version_major": 2,
       "version_minor": 0
      },
      "text/plain": [
       "VBox(children=(Tab(children=(Tab(children=(GridBox(children=(VBox(children=(GridspecLayout(children=(HTML(valu…"
      ]
     },
     "metadata": {},
     "output_type": "display_data"
    }
   ],
   "source": [
    "# Create  a report with basic analysis of data and save as html\n",
    "#==================================================================\n",
    "\n",
    "prof = ProfileReport(nifc_merge)\n",
    "prof.to_widgets()\n",
    "\n",
    "# Execute the following code to save the report in a html file\n",
    "# prof.to_file(output_file='nifc_final_analysis.html')"
   ]
  },
  {
   "cell_type": "code",
   "execution_count": 5,
   "id": "e1de369e",
   "metadata": {},
   "outputs": [],
   "source": [
    "# Found some negative values in the total days so dropping those columns\n",
    "# For some rows Todate is missing and so filling those TotalDays with zeros\n",
    "#==========================================================================\n",
    "\n",
    "nifc_merge = nifc_merge[~(nifc_merge.TotalDays <0)]\n",
    "nifc_merge.TotalDays.fillna(0,inplace=True)"
   ]
  },
  {
   "cell_type": "code",
   "execution_count": 6,
   "id": "cf341624",
   "metadata": {},
   "outputs": [
    {
     "data": {
      "text/plain": [
       "<AxesSubplot:xlabel='IncidentTypeCategory', ylabel='DailyAcres'>"
      ]
     },
     "execution_count": 6,
     "metadata": {},
     "output_type": "execute_result"
    },
    {
     "data": {
      "image/png": "[encoded data removed]",
      "text/plain": [
       "<Figure size 432x288 with 1 Axes>"
      ]
     },
     "metadata": {
      "needs_background": "light"
     },
     "output_type": "display_data"
    }
   ],
   "source": [
    "sns.boxplot(data=nifc_merge, y='DailyAcres', x='IncidentTypeCategory', showfliers = False)"
   ]
  },
  {
   "cell_type": "markdown",
   "id": "fc73a0d9",
   "metadata": {},
   "source": [
    "The incident type CX(complex) has more acres burnt"
   ]
  },
  {
   "cell_type": "code",
   "execution_count": 7,
   "id": "df9b3afb",
   "metadata": {},
   "outputs": [
    {
     "data": {
      "text/html": [
       "<div>\n",
       "<style scoped>\n",
       "    .dataframe tbody tr th:only-of-type {\n",
       "        vertical-align: middle;\n",
       "    }\n",
       "\n",
       "    .dataframe tbody tr th {\n",
       "        vertical-align: top;\n",
       "    }\n",
       "\n",
       "    .dataframe thead tr th {\n",
       "        text-align: left;\n",
       "    }\n",
       "\n",
       "    .dataframe thead tr:last-of-type th {\n",
       "        text-align: right;\n",
       "    }\n",
       "</style>\n",
       "<table border=\"1\" class=\"dataframe\">\n",
       "  <thead>\n",
       "    <tr>\n",
       "      <th></th>\n",
       "      <th colspan=\"3\" halign=\"left\">total_str_damaged</th>\n",
       "    </tr>\n",
       "    <tr>\n",
       "      <th></th>\n",
       "      <th>count</th>\n",
       "      <th>mean</th>\n",
       "      <th>sum</th>\n",
       "    </tr>\n",
       "    <tr>\n",
       "      <th>FireMgmtComplexity</th>\n",
       "      <th></th>\n",
       "      <th></th>\n",
       "      <th></th>\n",
       "    </tr>\n",
       "  </thead>\n",
       "  <tbody>\n",
       "    <tr>\n",
       "      <th>Type 1 Incident</th>\n",
       "      <td>67</td>\n",
       "      <td>18.641791</td>\n",
       "      <td>1249.0</td>\n",
       "    </tr>\n",
       "    <tr>\n",
       "      <th>Type 2 Incident</th>\n",
       "      <td>88</td>\n",
       "      <td>41.420455</td>\n",
       "      <td>3645.0</td>\n",
       "    </tr>\n",
       "    <tr>\n",
       "      <th>Type 2 Prescribed Fire</th>\n",
       "      <td>0</td>\n",
       "      <td>NaN</td>\n",
       "      <td>0.0</td>\n",
       "    </tr>\n",
       "    <tr>\n",
       "      <th>Type 3 Incident</th>\n",
       "      <td>699</td>\n",
       "      <td>5.975680</td>\n",
       "      <td>4177.0</td>\n",
       "    </tr>\n",
       "    <tr>\n",
       "      <th>Type 4 Incident</th>\n",
       "      <td>1614</td>\n",
       "      <td>1.845725</td>\n",
       "      <td>2979.0</td>\n",
       "    </tr>\n",
       "    <tr>\n",
       "      <th>Type 5 Incident</th>\n",
       "      <td>1689</td>\n",
       "      <td>0.751924</td>\n",
       "      <td>1270.0</td>\n",
       "    </tr>\n",
       "  </tbody>\n",
       "</table>\n",
       "</div>"
      ],
      "text/plain": [
       "                       total_str_damaged                   \n",
       "                                   count       mean     sum\n",
       "FireMgmtComplexity                                         \n",
       "Type 1 Incident                       67  18.641791  1249.0\n",
       "Type 2 Incident                       88  41.420455  3645.0\n",
       "Type 2 Prescribed Fire                 0        NaN     0.0\n",
       "Type 3 Incident                      699   5.975680  4177.0\n",
       "Type 4 Incident                     1614   1.845725  2979.0\n",
       "Type 5 Incident                     1689   0.751924  1270.0"
      ]
     },
     "execution_count": 7,
     "metadata": {},
     "output_type": "execute_result"
    }
   ],
   "source": [
    "nifc_merge[['FireMgmtComplexity', 'total_str_damaged']].groupby(['FireMgmtComplexity']).agg(['count','mean', 'sum'])"
   ]
  },
  {
   "cell_type": "markdown",
   "id": "0f79ae88",
   "metadata": {},
   "source": [
    "We do not have any data on prescribed fire. We have more data on type4 and type5 data. But for those categories the structure destruction is comparitively less comapred to other categories."
   ]
  },
  {
   "cell_type": "code",
   "execution_count": 8,
   "id": "869d2858",
   "metadata": {
    "scrolled": false
   },
   "outputs": [
    {
     "data": {
      "text/plain": [
       "(array([0, 1, 2, 3, 4, 5]),\n",
       " [Text(0, 0, 'Type 5 Incident'),\n",
       "  Text(1, 0, 'Type 3 Incident'),\n",
       "  Text(2, 0, 'Type 4 Incident'),\n",
       "  Text(3, 0, 'Type 2 Incident'),\n",
       "  Text(4, 0, 'Type 1 Incident'),\n",
       "  Text(5, 0, 'Type 2 Prescribed Fire')])"
      ]
     },
     "execution_count": 8,
     "metadata": {},
     "output_type": "execute_result"
    },
    {
     "data": {
      "image/png": "[encoded data removed]",
      "text/plain": [
       "<Figure size 432x288 with 1 Axes>"
      ]
     },
     "metadata": {
      "needs_background": "light"
     },
     "output_type": "display_data"
    }
   ],
   "source": [
    "sns.boxplot(data=nifc_merge, y='DailyAcres', x='FireMgmtComplexity', showfliers = False)\n",
    "plt.xticks(rotation=45)"
   ]
  },
  {
   "cell_type": "markdown",
   "id": "9440f417",
   "metadata": {},
   "source": [
    "Acres burnt for type2 and type1 are high too"
   ]
  },
  {
   "cell_type": "markdown",
   "id": "c685694a",
   "metadata": {},
   "source": [
    "#### Skewness of data"
   ]
  },
  {
   "cell_type": "code",
   "execution_count": 9,
   "id": "3f80678b",
   "metadata": {
    "scrolled": false
   },
   "outputs": [
    {
     "data": {
      "text/plain": [
       "<AxesSubplot:xlabel='DailyAcres', ylabel='Density'>"
      ]
     },
     "execution_count": 9,
     "metadata": {},
     "output_type": "execute_result"
    },
    {
     "data": {
      "image/png": "[encoded data removed]",
      "text/plain": [
       "<Figure size 432x288 with 1 Axes>"
      ]
     },
     "metadata": {
      "needs_background": "light"
     },
     "output_type": "display_data"
    }
   ],
   "source": [
    "sns.kdeplot(data=nifc_merge, x='DailyAcres')"
   ]
  },
  {
   "cell_type": "code",
   "execution_count": 10,
   "id": "de2e6784",
   "metadata": {},
   "outputs": [
    {
     "data": {
      "text/plain": [
       "<AxesSubplot:xlabel='total_str_threatened', ylabel='Density'>"
      ]
     },
     "execution_count": 10,
     "metadata": {},
     "output_type": "execute_result"
    },
    {
     "data": {
      "image/png": "[encoded data removed]",
      "text/plain": [
       "<Figure size 432x288 with 1 Axes>"
      ]
     },
     "metadata": {
      "needs_background": "light"
     },
     "output_type": "display_data"
    }
   ],
   "source": [
    "sns.kdeplot(data=nifc_merge, x='total_str_threatened')"
   ]
  },
  {
   "cell_type": "markdown",
   "id": "6a9ae8d3",
   "metadata": {},
   "source": [
    "The features acres burnt and structures threatened are right skewed. Therefore we are using a log transformation in the model pipeline"
   ]
  },
  {
   "cell_type": "markdown",
   "id": "9d4d0caa",
   "metadata": {},
   "source": [
    "## Model"
   ]
  },
  {
   "cell_type": "markdown",
   "id": "f72f3414",
   "metadata": {},
   "source": [
    "### Split numerical and categorical variables"
   ]
  },
  {
   "cell_type": "code",
   "execution_count": 11,
   "id": "196f0f68",
   "metadata": {},
   "outputs": [],
   "source": [
    "target = 'total_str_damaged'"
   ]
  },
  {
   "cell_type": "markdown",
   "id": "1e8256d2",
   "metadata": {},
   "source": [
    "From the analysis report \"PredominantFuelGroup\" doesn't have much values and so can be dropped. "
   ]
  },
  {
   "cell_type": "code",
   "execution_count": 12,
   "id": "8cab0ad7",
   "metadata": {
    "scrolled": true
   },
   "outputs": [
    {
     "name": "stdout",
     "output_type": "stream",
     "text": [
      "Categorical Variables are ['POOLandownerKind', 'FireCause', 'POOState', 'FireMgmtComplexity', 'IncidentTypeCategory', 'POOCounty']\n",
      "============================================\n",
      "Numeric Variables are ['total_str_threatened', 'TotalDays', 'DailyAcres', 'FireDiscoveryYear', 'total_str_damaged', 'FireDiscoveryMonth']\n"
     ]
    }
   ],
   "source": [
    "ignore_vars = ['key', 'UniqueFireIdentifier', 'IncidentName', 'FireDiscoveryDateTime', 'X', 'Y', \n",
    "               'Final Fire Acre Quantity', 'avg_home_value', 'EstimatedCostToDate', 'total_cost_damaged', 'PredominantFuelGroup',\n",
    "              'FireToDate', 'Number Fatalities', 'Number Injuries']\n",
    "\n",
    "cat_vars =  list(set(nifc_merge.select_dtypes(include='object').columns) - set(ignore_vars))\n",
    "numeric_vars = list(set(nifc_merge.columns) - set(cat_vars) - set(ignore_vars))\n",
    "print(f\"Categorical Variables are {cat_vars}\")\n",
    "print(\"============================================\")\n",
    "print(f\"Numeric Variables are {numeric_vars}\")"
   ]
  },
  {
   "cell_type": "code",
   "execution_count": 13,
   "id": "e01b48f3",
   "metadata": {},
   "outputs": [
    {
     "data": {
      "text/plain": [
       "['total_str_threatened',\n",
       " 'TotalDays',\n",
       " 'DailyAcres',\n",
       " 'FireDiscoveryYear',\n",
       " 'FireDiscoveryMonth']"
      ]
     },
     "execution_count": 13,
     "metadata": {},
     "output_type": "execute_result"
    }
   ],
   "source": [
    "numeric_vars = list(set(numeric_vars) - set([target]))\n",
    "numeric_vars"
   ]
  },
  {
   "cell_type": "markdown",
   "id": "bf06a70d",
   "metadata": {},
   "source": [
    "## Pipelines"
   ]
  },
  {
   "cell_type": "markdown",
   "id": "3670687e",
   "metadata": {},
   "source": [
    "### Feature selector pipeline\n",
    "\n",
    "The pipeline to select specific features only"
   ]
  },
  {
   "cell_type": "code",
   "execution_count": 14,
   "id": "06e09484",
   "metadata": {},
   "outputs": [],
   "source": [
    "class DataFrameSelector(BaseEstimator, TransformerMixin):\n",
    "    def __init__(self, attribute_names):\n",
    "        self.attribute_names = attribute_names\n",
    "    def fit(self, X, y=None):\n",
    "        return self\n",
    "    def transform(self, X):\n",
    "        return X[self.attribute_names].values"
   ]
  },
  {
   "cell_type": "markdown",
   "id": "ac9946e5",
   "metadata": {},
   "source": [
    "Since we found that numeric features are righ skewed we are introducing log transformation to make the features normal. "
   ]
  },
  {
   "cell_type": "code",
   "execution_count": 15,
   "id": "0cc2b83a",
   "metadata": {},
   "outputs": [],
   "source": [
    "def log_transform(x):\n",
    "    return np.log(x + 1) \n",
    "\n",
    "transformer = FunctionTransformer(log_transform)"
   ]
  },
  {
   "cell_type": "markdown",
   "id": "18b9c92c",
   "metadata": {},
   "source": [
    "### Numeric or Categorical pipeline"
   ]
  },
  {
   "cell_type": "code",
   "execution_count": 16,
   "id": "d7a6aae0",
   "metadata": {},
   "outputs": [],
   "source": [
    "# Create a pipeline for the numeric features.\n",
    "# Use DataFrameSelector with the numeric features defined above\n",
    "# Use StandardScaler() to standardize the data\n",
    "# Missing values will be imputed using the feature median.\n",
    "\n",
    "num_pipeline = Pipeline([\n",
    "        ('selector', DataFrameSelector(numeric_vars)),\n",
    "        ('imputer', SimpleImputer(strategy='median')),\n",
    "        ('log_trans', transformer),\n",
    "        ('std_scaler', StandardScaler()),\n",
    "    ])\n",
    "\n",
    "# Create a pipelne for the categorical features.\n",
    "# Entries with missing values or values that don't exist in the range\n",
    "# defined above will be one hot encoded as zeroes.\n",
    "\n",
    "cat_pipeline = Pipeline([\n",
    "        ('selector', DataFrameSelector(cat_vars)),\n",
    "        ('imputer', SimpleImputer(strategy='most_frequent')),\n",
    "        ('ohe', OneHotEncoder(sparse=False, handle_unknown=\"ignore\"))\n",
    "    ])"
   ]
  },
  {
   "cell_type": "code",
   "execution_count": 17,
   "id": "c3e12742",
   "metadata": {},
   "outputs": [],
   "source": [
    "# Union the transformed, scaled numeric and categorical features.\n",
    "data_prep_pipeline = FeatureUnion(transformer_list=[\n",
    "        (\"num_pipeline\", num_pipeline),\n",
    "        (\"cat_pipeline\", cat_pipeline),\n",
    "    ])"
   ]
  },
  {
   "cell_type": "markdown",
   "id": "a54f0959",
   "metadata": {},
   "source": [
    "## Model Prep"
   ]
  },
  {
   "cell_type": "code",
   "execution_count": 18,
   "id": "43f87cc9",
   "metadata": {},
   "outputs": [],
   "source": [
    "random_state = 222 #42\n",
    "CV_Splits = 2"
   ]
  },
  {
   "cell_type": "markdown",
   "id": "997fc9ec",
   "metadata": {},
   "source": [
    "### Split data"
   ]
  },
  {
   "cell_type": "code",
   "execution_count": 19,
   "id": "c75984d8",
   "metadata": {},
   "outputs": [
    {
     "data": {
      "text/plain": [
       "8525"
      ]
     },
     "execution_count": 19,
     "metadata": {},
     "output_type": "execute_result"
    }
   ],
   "source": [
    "nifc_merge.total_str_damaged.isna().sum()"
   ]
  },
  {
   "cell_type": "code",
   "execution_count": 20,
   "id": "c52e87ea",
   "metadata": {},
   "outputs": [],
   "source": [
    "# nifc_merge['total_str_damaged'].fillna(0, inplace=True)\n",
    "nifc_merge.dropna(subset = ['total_str_damaged'], inplace=True)"
   ]
  },
  {
   "cell_type": "code",
   "execution_count": 21,
   "id": "ddeace03",
   "metadata": {},
   "outputs": [],
   "source": [
    "X_train, X_test, y_train, y_test = train_test_split(nifc_merge.drop([target], axis=1), nifc_merge[[target]],test_size=.2, random_state=random_state)"
   ]
  },
  {
   "cell_type": "code",
   "execution_count": 22,
   "id": "6e13b6de",
   "metadata": {},
   "outputs": [
    {
     "name": "stdout",
     "output_type": "stream",
     "text": [
      "Size of Train X is (3704, 21)\n",
      "Size of Train y is (3704, 1)\n",
      "Size of Test X is (927, 21)\n",
      "Size of Test y is (927, 1)\n"
     ]
    }
   ],
   "source": [
    "print(f\"Size of Train X is {X_train.shape}\")\n",
    "print(f\"Size of Train y is {y_train.shape}\")\n",
    "print(f\"Size of Test X is {X_test.shape}\")\n",
    "print(f\"Size of Test y is {y_test.shape}\")"
   ]
  },
  {
   "cell_type": "markdown",
   "id": "ca7c71d0",
   "metadata": {},
   "source": [
    "### Results log\n",
    "\n",
    "Initialize the results log"
   ]
  },
  {
   "cell_type": "code",
   "execution_count": 23,
   "id": "3a90456d",
   "metadata": {},
   "outputs": [],
   "source": [
    "if False: # Make True only if running for the first time (To prevent reset of results)\n",
    "    results = pd.DataFrame(columns=[\"ExpID\", \"Model\", \n",
    "                                'train_R2_Score', \"test_R2_Score\", \"train_RMSE\", \"test_RMSE\", \"train_MAE\", \"test_MAE\",\n",
    "                                \"fit_time\", \"score_time\", \"Parameters\"])"
   ]
  },
  {
   "cell_type": "code",
   "execution_count": 24,
   "id": "41a1637b",
   "metadata": {},
   "outputs": [],
   "source": [
    "def display_results(model_name,scores, best_params= None):\n",
    "    i = len(results) \n",
    "    results.loc[i, \"ExpID\"] = i +1\n",
    "    results.loc[i, \"Model\"] = model_name #+ str(random_state)\n",
    "    results.loc[i, \"fit_time\"] = scores[\"fit_time\"][0]\n",
    "    results.loc[i, \"score_time\"] = scores[\"score_time\"][0]\n",
    "    results.loc[i, \"test_R2_Score\"] = scores[\"test_R2_Score\"][0]\n",
    "    results.loc[i, \"train_R2_Score\"] = scores[\"train_R2_Score\"][0]\n",
    "    results.loc[i, \"test_RMSE\"] = math.sqrt(scores[\"test_MSE\"][0])\n",
    "    results.loc[i, \"train_RMSE\"] = math.sqrt(scores[\"train_MSE\"][0])\n",
    "    results.loc[i, \"test_MAE\"] = scores[\"test_MAE\"][0]\n",
    "    results.loc[i, \"train_MAE\"] = scores[\"train_MAE\"][0]\n",
    "    results.loc[i, \"Parameters\"] = best_params\n",
    "    "
   ]
  },
  {
   "cell_type": "markdown",
   "id": "c64873d7",
   "metadata": {},
   "source": [
    "### Scores\n",
    "\n",
    "Set the metric scores here"
   ]
  },
  {
   "cell_type": "code",
   "execution_count": 25,
   "id": "04ea65d7",
   "metadata": {},
   "outputs": [],
   "source": [
    "scorers = {'R2_Score': make_scorer(r2_score),\n",
    "           'MSE': make_scorer(mean_squared_error),\n",
    "           'MAE': make_scorer(mean_absolute_error)\n",
    "          }"
   ]
  },
  {
   "cell_type": "markdown",
   "id": "45e4970f",
   "metadata": {},
   "source": [
    "## Models"
   ]
  },
  {
   "cell_type": "markdown",
   "id": "da247140",
   "metadata": {},
   "source": [
    "### Baseline Simple Linear Regression\n",
    "\n",
    "#### Set up Pipeline"
   ]
  },
  {
   "cell_type": "code",
   "execution_count": 26,
   "id": "5b62c9d4",
   "metadata": {},
   "outputs": [],
   "source": [
    "np.random.seed(random_state)\n",
    "\n",
    "baseline_pipeline = Pipeline([\n",
    "    ('preperation', data_prep_pipeline),\n",
    "     ('baseline_rfr', RandomForestRegressor(n_estimators=50, max_depth = 10, max_features=8))\n",
    "])"
   ]
  },
  {
   "cell_type": "markdown",
   "id": "43331b27",
   "metadata": {},
   "source": [
    "#### Run Predictions"
   ]
  },
  {
   "cell_type": "code",
   "execution_count": 27,
   "id": "9e633623",
   "metadata": {},
   "outputs": [],
   "source": [
    "np.random.seed(random_state)\n",
    "\n",
    "baseline_pipeline.fit(X_train, y_train)\n",
    "start = time()\n",
    "linear_test_pred = baseline_pipeline.predict(X_test)\n",
    "train_time = np.round(time() - start, 4)"
   ]
  },
  {
   "cell_type": "code",
   "execution_count": 28,
   "id": "1138d3e2",
   "metadata": {
    "scrolled": true
   },
   "outputs": [],
   "source": [
    "linear_train_scores = cross_validate(baseline_pipeline, X_train, y_train, cv=CV_Splits, scoring=scorers, return_train_score=True, n_jobs=-1)\n"
   ]
  },
  {
   "cell_type": "code",
   "execution_count": 29,
   "id": "c9aa160e",
   "metadata": {},
   "outputs": [],
   "source": [
    "# If error occurs stating \"results not found\", in the results log section enable the dataframe intialization\n",
    "display_results('baseline', linear_train_scores)"
   ]
  },
  {
   "cell_type": "code",
   "execution_count": 30,
   "id": "8bd72194",
   "metadata": {
    "scrolled": true
   },
   "outputs": [
    {
     "data": {
      "text/html": [
       "<div>\n",
       "<style scoped>\n",
       "    .dataframe tbody tr th:only-of-type {\n",
       "        vertical-align: middle;\n",
       "    }\n",
       "\n",
       "    .dataframe tbody tr th {\n",
       "        vertical-align: top;\n",
       "    }\n",
       "\n",
       "    .dataframe thead th {\n",
       "        text-align: right;\n",
       "    }\n",
       "</style>\n",
       "<table border=\"1\" class=\"dataframe\">\n",
       "  <thead>\n",
       "    <tr style=\"text-align: right;\">\n",
       "      <th></th>\n",
       "      <th>ExpID</th>\n",
       "      <th>Model</th>\n",
       "      <th>train_R2_Score</th>\n",
       "      <th>test_R2_Score</th>\n",
       "      <th>train_RMSE</th>\n",
       "      <th>test_RMSE</th>\n",
       "      <th>train_MAE</th>\n",
       "      <th>test_MAE</th>\n",
       "      <th>fit_time</th>\n",
       "      <th>score_time</th>\n",
       "      <th>Parameters</th>\n",
       "    </tr>\n",
       "  </thead>\n",
       "  <tbody>\n",
       "    <tr>\n",
       "      <th>0</th>\n",
       "      <td>1</td>\n",
       "      <td>baseline</td>\n",
       "      <td>0.347856</td>\n",
       "      <td>0.043822</td>\n",
       "      <td>379.552015</td>\n",
       "      <td>460.347449</td>\n",
       "      <td>21.250336</td>\n",
       "      <td>24.897694</td>\n",
       "      <td>0.134614</td>\n",
       "      <td>0.034138</td>\n",
       "      <td>None</td>\n",
       "    </tr>\n",
       "  </tbody>\n",
       "</table>\n",
       "</div>"
      ],
      "text/plain": [
       "  ExpID     Model train_R2_Score test_R2_Score  train_RMSE   test_RMSE  train_MAE   test_MAE  fit_time score_time Parameters\n",
       "0     1  baseline       0.347856      0.043822  379.552015  460.347449  21.250336  24.897694  0.134614   0.034138       None"
      ]
     },
     "execution_count": 30,
     "metadata": {},
     "output_type": "execute_result"
    }
   ],
   "source": [
    "results"
   ]
  },
  {
   "cell_type": "markdown",
   "id": "7921f187",
   "metadata": {},
   "source": [
    "### Grid Search - Complex models"
   ]
  },
  {
   "cell_type": "markdown",
   "id": "5ce61ee4",
   "metadata": {},
   "source": [
    "### Parameters"
   ]
  },
  {
   "cell_type": "code",
   "execution_count": 33,
   "id": "e8338787",
   "metadata": {},
   "outputs": [],
   "source": [
    "# Define models\n",
    "reg_models =  [\n",
    "        ('Random Forest', RandomForestRegressor(random_state=random_state)),\n",
    "    ('ElasticNet', ElasticNet(random_state=random_state)),\n",
    "    ('LightGBM', LGBMRegressor(random_state=random_state))\n",
    "    ]"
   ]
  },
  {
   "cell_type": "code",
   "execution_count": 35,
   "id": "d0a3ac54",
   "metadata": {},
   "outputs": [],
   "source": [
    "# Set up different paramters for gridsearch\n",
    "params_grid = {\n",
    "        'Random Forest': {\n",
    "            'n_estimators' : [25, 50, 100, 150], \n",
    "            'max_depth' : [5, 10, 20, 25], \n",
    "            'max_features' : [8, 10, \"auto\"],\n",
    "            'min_weight_fraction_leaf' : [0, 2, 5, 10],            \n",
    "        },\n",
    "    'ElasticNet':{\n",
    "        'alpha' : [0, 1, 2],\n",
    "        'l1_ratio' : [0, .5, 1, 1.5, 2]\n",
    "    },\n",
    "    \n",
    "    'LightGBM' : {\n",
    "        'boosting_type ' : ['gbdt', 'dart', 'goss', 'rf'],\n",
    "            'max_depth': [-1, 5, 10], # Lower helps with overfitting\n",
    "            'num_leaves': [5, 10, 20, 25, 30, 35, 40],\n",
    "            'n_estimators':[100, 500, 1000],\n",
    "            'learning_rate': [0.01, .1, .001],\n",
    "    }\n",
    "    }"
   ]
  },
  {
   "cell_type": "code",
   "execution_count": 36,
   "id": "06199240",
   "metadata": {},
   "outputs": [
    {
     "name": "stdout",
     "output_type": "stream",
     "text": [
      "#=========Starting Random Forest model===============#\n",
      "Fitting 2 folds for each of 192 candidates, totalling 384 fits\n",
      "#========Grid Search Ended==========#\n",
      "\n",
      "Best parameters selected by gridsearch are:\n",
      "{'predictor__max_depth': 20, 'predictor__max_features': 'auto', 'predictor__min_weight_fraction_leaf': 0, 'predictor__n_estimators': 100}\n",
      "\n",
      "#===Evaluating best fit Random Forest model using cross validation =====#\n"
     ]
    },
    {
     "name": "stderr",
     "output_type": "stream",
     "text": [
      "[Parallel(n_jobs=-1)]: Using backend LokyBackend with 8 concurrent workers.\n",
      "[Parallel(n_jobs=-1)]: Done   2 out of   2 | elapsed:   15.8s remaining:    0.0s\n",
      "[Parallel(n_jobs=-1)]: Done   2 out of   2 | elapsed:   15.8s finished\n"
     ]
    },
    {
     "name": "stdout",
     "output_type": "stream",
     "text": [
      "#===Evaluation ended =====#\n",
      "\n",
      "#=========Starting ElasticNet model===============#\n",
      "Fitting 2 folds for each of 15 candidates, totalling 30 fits\n",
      "#========Grid Search Ended==========#\n",
      "\n",
      "Best parameters selected by gridsearch are:\n",
      "{'predictor__alpha': 1, 'predictor__l1_ratio': 0.5}\n",
      "\n",
      "#===Evaluating best fit ElasticNet model using cross validation =====#\n"
     ]
    },
    {
     "name": "stderr",
     "output_type": "stream",
     "text": [
      "[Parallel(n_jobs=-1)]: Using backend LokyBackend with 8 concurrent workers.\n",
      "[Parallel(n_jobs=-1)]: Done   2 out of   2 | elapsed:    0.1s remaining:    0.0s\n",
      "[Parallel(n_jobs=-1)]: Done   2 out of   2 | elapsed:    0.1s finished\n"
     ]
    },
    {
     "name": "stdout",
     "output_type": "stream",
     "text": [
      "#===Evaluation ended =====#\n",
      "\n",
      "#=========Starting LightGBM model===============#\n",
      "Fitting 2 folds for each of 756 candidates, totalling 1512 fits\n",
      "[LightGBM] [Warning] boosting_type is set=gbdt, boosting_type= will be ignored. Current value: boosting_type=gbdt\n",
      "[LightGBM] [Warning] Unknown parameter: gbdt\n",
      "#========Grid Search Ended==========#\n",
      "\n",
      "Best parameters selected by gridsearch are:\n",
      "{'predictor__boosting_type ': 'gbdt', 'predictor__learning_rate': 0.1, 'predictor__max_depth': -1, 'predictor__n_estimators': 500, 'predictor__num_leaves': 10}\n",
      "\n",
      "#===Evaluating best fit LightGBM model using cross validation =====#\n"
     ]
    },
    {
     "name": "stderr",
     "output_type": "stream",
     "text": [
      "[Parallel(n_jobs=-1)]: Using backend LokyBackend with 8 concurrent workers.\n"
     ]
    },
    {
     "name": "stdout",
     "output_type": "stream",
     "text": [
      "#===Evaluation ended =====#\n",
      "\n"
     ]
    },
    {
     "name": "stderr",
     "output_type": "stream",
     "text": [
      "[Parallel(n_jobs=-1)]: Done   2 out of   2 | elapsed:    0.7s remaining:    0.0s\n",
      "[Parallel(n_jobs=-1)]: Done   2 out of   2 | elapsed:    0.7s finished\n"
     ]
    }
   ],
   "source": [
    "for (name, reg_model) in reg_models:\n",
    "    \n",
    "     # Execute the grid search\n",
    "    params = {}\n",
    "    for p in params_grid[name].keys():\n",
    "        pipe_key = 'predictor__'+str(p)\n",
    "        params[pipe_key] = params_grid[name][p] \n",
    "    \n",
    "    print(f\"#=========Starting {name} model===============#\")\n",
    "   # generate the pipeline\n",
    "    full_pipeline_with_predictor = Pipeline([\n",
    "        (\"preparation\", data_prep_pipeline),\n",
    "        (\"predictor\", reg_model)\n",
    "    ])\n",
    "    \n",
    "    grid_search = GridSearchCV(full_pipeline_with_predictor, params, scoring=scorers, cv=CV_Splits, verbose=1, n_jobs=-1, refit=\"R2_Score\")\n",
    "    grid_search.fit(X_train, y_train)\n",
    "    \n",
    "    print(\"#========Grid Search Ended==========#\")\n",
    "    print()\n",
    "    \n",
    "    print(f\"Best parameters selected by gridsearch are:\")\n",
    "    print(grid_search.best_params_)\n",
    "    \n",
    "    gridsearch_r2 = grid_search.best_score_\n",
    "    \n",
    "    print()\n",
    "    print(f\"#===Evaluating best fit {name} model using cross validation =====#\")\n",
    "    \n",
    "    best_train_scores = cross_validate(grid_search.best_estimator_, \n",
    "                                       X_train, y_train, cv=CV_Splits, scoring=scorers, return_train_score=True, n_jobs=-1, verbose =1)\n",
    "    \n",
    "    \n",
    "    print(f\"#===Evaluation ended =====#\")\n",
    "    print()\n",
    "    \n",
    "#     print(\"Scores of cross validation are:\")\n",
    "    \n",
    "    display_results(name, best_train_scores, str(grid_search.best_params_))\n",
    "    \n",
    "    gs_pred = grid_search.best_estimator_.predict\n",
    "    \n",
    "    \n",
    "    \n",
    "    "
   ]
  },
  {
   "cell_type": "code",
   "execution_count": 37,
   "id": "86d525ca",
   "metadata": {
    "scrolled": true
   },
   "outputs": [
    {
     "data": {
      "text/html": [
       "<div>\n",
       "<style scoped>\n",
       "    .dataframe tbody tr th:only-of-type {\n",
       "        vertical-align: middle;\n",
       "    }\n",
       "\n",
       "    .dataframe tbody tr th {\n",
       "        vertical-align: top;\n",
       "    }\n",
       "\n",
       "    .dataframe thead th {\n",
       "        text-align: right;\n",
       "    }\n",
       "</style>\n",
       "<table border=\"1\" class=\"dataframe\">\n",
       "  <thead>\n",
       "    <tr style=\"text-align: right;\">\n",
       "      <th></th>\n",
       "      <th>ExpID</th>\n",
       "      <th>Model</th>\n",
       "      <th>train_R2_Score</th>\n",
       "      <th>test_R2_Score</th>\n",
       "      <th>train_RMSE</th>\n",
       "      <th>test_RMSE</th>\n",
       "      <th>train_MAE</th>\n",
       "      <th>test_MAE</th>\n",
       "      <th>fit_time</th>\n",
       "      <th>score_time</th>\n",
       "      <th>Parameters</th>\n",
       "    </tr>\n",
       "  </thead>\n",
       "  <tbody>\n",
       "    <tr>\n",
       "      <th>0</th>\n",
       "      <td>1</td>\n",
       "      <td>baseline</td>\n",
       "      <td>0.347856</td>\n",
       "      <td>0.043822</td>\n",
       "      <td>379.552015</td>\n",
       "      <td>460.347449</td>\n",
       "      <td>21.250336</td>\n",
       "      <td>24.897694</td>\n",
       "      <td>0.134614</td>\n",
       "      <td>0.034138</td>\n",
       "      <td>None</td>\n",
       "    </tr>\n",
       "    <tr>\n",
       "      <th>1</th>\n",
       "      <td>2</td>\n",
       "      <td>Random Forest</td>\n",
       "      <td>0.883821</td>\n",
       "      <td>0.661319</td>\n",
       "      <td>160.200473</td>\n",
       "      <td>273.975494</td>\n",
       "      <td>7.863969</td>\n",
       "      <td>12.920641</td>\n",
       "      <td>15.698301</td>\n",
       "      <td>0.087922</td>\n",
       "      <td>{'predictor__max_depth': 20, 'predictor__max_f...</td>\n",
       "    </tr>\n",
       "    <tr>\n",
       "      <th>2</th>\n",
       "      <td>3</td>\n",
       "      <td>ElasticNet</td>\n",
       "      <td>0.033519</td>\n",
       "      <td>0.032262</td>\n",
       "      <td>462.057828</td>\n",
       "      <td>463.121954</td>\n",
       "      <td>47.209889</td>\n",
       "      <td>48.096431</td>\n",
       "      <td>0.083999</td>\n",
       "      <td>0.046354</td>\n",
       "      <td>{'predictor__alpha': 1, 'predictor__l1_ratio':...</td>\n",
       "    </tr>\n",
       "    <tr>\n",
       "      <th>3</th>\n",
       "      <td>4</td>\n",
       "      <td>LightGBM</td>\n",
       "      <td>0.831645</td>\n",
       "      <td>0.77606</td>\n",
       "      <td>192.84681</td>\n",
       "      <td>222.782991</td>\n",
       "      <td>22.215772</td>\n",
       "      <td>27.850316</td>\n",
       "      <td>0.379275</td>\n",
       "      <td>0.201462</td>\n",
       "      <td>{'predictor__boosting_type ': 'gbdt', 'predict...</td>\n",
       "    </tr>\n",
       "  </tbody>\n",
       "</table>\n",
       "</div>"
      ],
      "text/plain": [
       "  ExpID          Model train_R2_Score test_R2_Score  train_RMSE   test_RMSE  train_MAE   test_MAE   fit_time score_time                                         Parameters\n",
       "0     1       baseline       0.347856      0.043822  379.552015  460.347449  21.250336  24.897694   0.134614   0.034138                                               None\n",
       "1     2  Random Forest       0.883821      0.661319  160.200473  273.975494   7.863969  12.920641  15.698301   0.087922  {'predictor__max_depth': 20, 'predictor__max_f...\n",
       "2     3     ElasticNet       0.033519      0.032262  462.057828  463.121954  47.209889  48.096431   0.083999   0.046354  {'predictor__alpha': 1, 'predictor__l1_ratio':...\n",
       "3     4       LightGBM       0.831645       0.77606   192.84681  222.782991  22.215772  27.850316   0.379275   0.201462  {'predictor__boosting_type ': 'gbdt', 'predict..."
      ]
     },
     "execution_count": 37,
     "metadata": {},
     "output_type": "execute_result"
    }
   ],
   "source": [
    "results"
   ]
  },
  {
   "cell_type": "markdown",
   "id": "c77d42a7",
   "metadata": {},
   "source": [
    "Let us see how good our LightGBM model predictions are on the test data"
   ]
  },
  {
   "cell_type": "code",
   "execution_count": 38,
   "id": "65bd93e0",
   "metadata": {},
   "outputs": [],
   "source": [
    "gs_best = grid_search.best_estimator_.fit(X_train, y_train)\n",
    "gs_pred = gs_best.predict(X_test)"
   ]
  },
  {
   "cell_type": "markdown",
   "id": "16a5ee87",
   "metadata": {},
   "source": [
    "Some of the values are predicted negative so we assign those values to zeros and then find adjusted r2, rmse and mae values"
   ]
  },
  {
   "cell_type": "code",
   "execution_count": 39,
   "id": "8bcbd809",
   "metadata": {},
   "outputs": [],
   "source": [
    "gs_pred[gs_pred < 0] = 0"
   ]
  },
  {
   "cell_type": "code",
   "execution_count": 40,
   "id": "3a74abf0",
   "metadata": {},
   "outputs": [
    {
     "name": "stdout",
     "output_type": "stream",
     "text": [
      "Adjusted R2 value is 0.9330021992592359\n"
     ]
    }
   ],
   "source": [
    "adj_r2 = 1 - (1-grid_search.best_estimator_.score(X_train, y_train))*(len(y_test)-1)/(len(y_test)-X_train.shape[1]-1)\n",
    "print(f\"Adjusted R2 value is {adj_r2}\")"
   ]
  },
  {
   "cell_type": "code",
   "execution_count": 41,
   "id": "1d4c63b8",
   "metadata": {},
   "outputs": [
    {
     "name": "stdout",
     "output_type": "stream",
     "text": [
      "rmse is 57.77000315885087 and mae is 9.032157574933223\n"
     ]
    }
   ],
   "source": [
    "print(f\"rmse is {np.sqrt(mean_squared_error(y_test, gs_pred))} and mae is {mean_absolute_error(y_test, gs_pred)}\")"
   ]
  },
  {
   "cell_type": "markdown",
   "id": "af4e436f",
   "metadata": {},
   "source": [
    "The lightgbm model is a good model as we have an adjusted r2 value of .93 and very small rmse and mae values. "
   ]
  },
  {
   "cell_type": "markdown",
   "id": "2a722ce6",
   "metadata": {},
   "source": [
    "## Results"
   ]
  },
  {
   "cell_type": "markdown",
   "id": "4b477e62",
   "metadata": {},
   "source": [
    "After removing features like number of fatalities and number of injuries LightGBM model gave a good R2 score of .83 and .77 and rmse in few hundreds. "
   ]
  },
  {
   "cell_type": "markdown",
   "id": "09921917",
   "metadata": {},
   "source": [
    "As we can see in the analysis, the target variable is having about 64% of missing values. Many other features are also having high missing values. We tried different strategies like \n",
    "* changing random states for testtrain splits, \n",
    "* changing scaling methods(used StandardScalar, MinMaxScalar), \n",
    "* changing imputation methods(tried either dropping nulls or imputing with other values), \n",
    "* excluding and including feature ( For example removing features that have more missing values like number of injuries, number of fatalities etc. "
   ]
  },
  {
   "cell_type": "markdown",
   "id": "98735a0e",
   "metadata": {},
   "source": [
    "## References\n",
    "\n",
    "1. NIFC data <https://data-nifc.opendata.arcgis.com/>\n",
    "2. NASF data <https://famprod.nwcg.gov/cognos11/bi/?perspective=home>\n",
    "3. USFS data <https://data.fs.usda.gov/geodata/edw/edw_resources/shp/S_USA.Fire_Occurrence_FIRESTAT_YRLY.zip>\n",
    "4. Solving pandas profiling issue <https://github.com/ydataai/pandas-profiling/issues/836>\n"
   ]
  },
  {
   "cell_type": "code",
   "execution_count": null,
   "id": "84561f42",
   "metadata": {},
   "outputs": [],
   "source": []
  }
 ],
 "metadata": {
  "kernelspec": {
   "display_name": "Python 3 (ipykernel)",
   "language": "python",
   "name": "python3"
  },
  "language_info": {
   "codemirror_mode": {
    "name": "ipython",
    "version": 3
   },
   "file_extension": ".py",
   "mimetype": "text/x-python",
   "name": "python",
   "nbconvert_exporter": "python",
   "pygments_lexer": "ipython3",
   "version": "3.8.8"
  }
 },
 "nbformat": 4,
 "nbformat_minor": 5
}
